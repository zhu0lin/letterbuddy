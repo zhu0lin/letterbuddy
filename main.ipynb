{
 "cells": [
  {
   "cell_type": "code",
   "execution_count": 4,
   "id": "bfb40773",
   "metadata": {},
   "outputs": [],
   "source": [
    "import cv2 as cv\n",
    "\n",
    "img = cv.imread('./data/model-citizen/test2.png')\n",
    "#cv.imshow('image', img)\n"
   ]
  },
  {
   "cell_type": "code",
   "execution_count": 15,
   "id": "271c87f4",
   "metadata": {},
   "outputs": [],
   "source": [
    "import os\n",
    "import glob\n",
    "\n",
    "gray = cv.cvtColor(img, cv.COLOR_BGR2GRAY)\n",
    "#cv.imshow('gray image', gray)\n",
    "\n",
    "# Optional: improve contrast\n",
    "gray = cv.equalizeHist(gray)\n",
    "\n",
    "# Threshold (adaptive) – keep text white, background black\n",
    "thresh = cv.adaptiveThreshold(\n",
    "    gray, 255,\n",
    "    cv.ADAPTIVE_THRESH_GAUSSIAN_C,\n",
    "    cv.THRESH_BINARY_INV,\n",
    "    35, 10\n",
    ")\n",
    "cv.imshow('thresholded image', thresh)\n",
    "\n",
    "# Morphology to clean noise (larger kernel)\n",
    "kernel = cv.getStructuringElement(cv.MORPH_RECT, (3,3)) #bigger numbers add background blur\n",
    "morph = cv.morphologyEx(thresh, cv.MORPH_OPEN, kernel, iterations=1)  # remove specks\n",
    "morph = cv.morphologyEx(morph, cv.MORPH_CLOSE, kernel, iterations=1)  # connect strokes\n",
    "cv.imshow('morphological image', morph)\n",
    "\n",
    "# Use connected components instead of contours\n",
    "num_labels, labels, stats, centroids = cv.connectedComponentsWithStats(morph, connectivity=8)\n",
    "\n",
    "# Visualization\n",
    "vis = cv.cvtColor(morph, cv.COLOR_GRAY2BGR)\n",
    "\n",
    "os.makedirs(\"results\", exist_ok=True)\n",
    "\n",
    "for i in range(1, num_labels):  # skip background\n",
    "    x, y, w, h, area = stats[i]\n",
    "\n",
    "    # Filter blobs (remove tiny specks and very large areas)\n",
    "    if area < 50 or w*h > 0.15*img.shape[0]*img.shape[1]:\n",
    "        continue\n",
    "\n",
    "    char_img = morph[y:y+h + 20, x:x+w]\n",
    "    cv.imwrite(f'results/char_{i}.png', char_img)\n",
    "\n",
    "    # Draw boxes for visualization\n",
    "    cv.rectangle(vis, (x, y), (x+w, y+h + 10), (0, 255, 0), 1)\n",
    "\n",
    "cv.imshow(\"characters\", vis)\n",
    "\n",
    "cv.waitKey(0)\n",
    "cv.destroyAllWindows()\n",
    "\n",
    "# Clean up: remove all files in the results folder after program ends\n",
    "for f in glob.glob('results/*'):\n",
    "    try:\n",
    "        os.remove(f)\n",
    "    except Exception as e:\n",
    "        print(f\"Could not remove {f}: {e}\")"
   ]
  },
  {
   "cell_type": "code",
   "execution_count": null,
   "id": "f1d69d3a",
   "metadata": {},
   "outputs": [
    {
     "ename": "error",
     "evalue": "OpenCV(4.12.0) :-1: error: (-5:Bad argument) in function 'imshow'\n> Overload resolution failed:\n>  - mat is not a numerical tuple\n>  - Expected Ptr<cv::cuda::GpuMat> for argument 'mat'\n>  - Expected Ptr<cv::UMat> for argument 'mat'\n",
     "output_type": "error",
     "traceback": [
      "\u001b[31m---------------------------------------------------------------------------\u001b[39m",
      "\u001b[31merror\u001b[39m                                     Traceback (most recent call last)",
      "\u001b[36mCell\u001b[39m\u001b[36m \u001b[39m\u001b[32mIn[2]\u001b[39m\u001b[32m, line 21\u001b[39m\n\u001b[32m     19\u001b[39m \u001b[38;5;66;03m# Find contours (now characters are white)\u001b[39;00m\n\u001b[32m     20\u001b[39m contours, _ = cv.findContours(inverted, cv.RETR_EXTERNAL, cv.CHAIN_APPROX_SIMPLE)\n\u001b[32m---> \u001b[39m\u001b[32m21\u001b[39m cv.imshow(\u001b[33m'\u001b[39m\u001b[33mcontoured image\u001b[39m\u001b[33m'\u001b[39m, contours)\n\u001b[32m     23\u001b[39m \u001b[38;5;66;03m# Extract and save each character bounding box\u001b[39;00m\n\u001b[32m     24\u001b[39m \u001b[38;5;28;01mfor\u001b[39;00m i, cnt \u001b[38;5;129;01min\u001b[39;00m \u001b[38;5;28menumerate\u001b[39m(contours):\n",
      "\u001b[31merror\u001b[39m: OpenCV(4.12.0) :-1: error: (-5:Bad argument) in function 'imshow'\n> Overload resolution failed:\n>  - mat is not a numerical tuple\n>  - Expected Ptr<cv::cuda::GpuMat> for argument 'mat'\n>  - Expected Ptr<cv::UMat> for argument 'mat'\n"
     ]
    }
   ],
   "source": [
    "# gray = cv.cvtColor(img, cv.COLOR_BGR2GRAY)\n",
    "# cv.imshow('gray image', gray)\n",
    "# gray = cv.equalizeHist(gray)\n",
    "\n",
    "# # Threshold (adaptive or Otsu)\n",
    "# thresh = cv.adaptiveThreshold(gray, 255, cv.ADAPTIVE_THRESH_GAUSSIAN_C, \n",
    "#                                cv.THRESH_BINARY_INV, 11, 2)\n",
    "\n",
    "# # Morphological operations to clean noise\n",
    "# kernel = cv.getStructuringElement(cv.MORPH_RECT, (2,2))\n",
    "# cv.imshow('thresholded image', thresh)\n",
    "\n",
    "# morph = cv.morphologyEx(thresh, cv.MORPH_CLOSE, kernel)\n",
    "# cv.imshow('morphological image', morph)\n",
    "\n",
    "# # Invert the binary image so characters are white on black\n",
    "# inverted = cv.bitwise_not(morph)\n",
    "\n",
    "# # Find contours (now characters are white)\n",
    "# contours, _ = cv.findContours(inverted, cv.RETR_EXTERNAL, cv.CHAIN_APPROX_SIMPLE)\n",
    "# cv.imshow('contoured image', contours)\n",
    "\n",
    "# # Extract and save each character bounding box\n",
    "# for i, cnt in enumerate(contours):\n",
    "#     x, y, w, h = cv.boundingRect(cnt)\n",
    "#     if w > 10 and h > 10:  # Filter small noise\n",
    "#         char_img = inverted[y:y+h, x:x+w]\n",
    "#         cv.imwrite(f'results/char_{i}.png', char_img)\n",
    "\n",
    "# cv.waitKey(0)\n",
    "# cv.destroyAllWindows()"
   ]
  }
 ],
 "metadata": {
  "kernelspec": {
   "display_name": "base",
   "language": "python",
   "name": "python3"
  },
  "language_info": {
   "codemirror_mode": {
    "name": "ipython",
    "version": 3
   },
   "file_extension": ".py",
   "mimetype": "text/x-python",
   "name": "python",
   "nbconvert_exporter": "python",
   "pygments_lexer": "ipython3",
   "version": "3.13.5"
  }
 },
 "nbformat": 4,
 "nbformat_minor": 5
}
